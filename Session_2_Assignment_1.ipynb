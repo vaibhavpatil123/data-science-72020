{
  "nbformat": 4,
  "nbformat_minor": 0,
  "metadata": {
    "colab": {
      "name": "Session 2: Assignment 1",
      "provenance": [],
      "collapsed_sections": [],
      "toc_visible": true
    },
    "kernelspec": {
      "name": "python3",
      "display_name": "Python 3"
    }
  },
  "cells": [
    {
      "cell_type": "markdown",
      "metadata": {
        "id": "zLCMS9yn51DB",
        "colab_type": "text"
      },
      "source": [
        "**Session 2: Assignment 1**\n",
        "\n",
        "Task 1:\n",
        "1.1\n",
        "Write a Python Program to implement your own myreduce() function which works exactly like\n",
        "Python's built-in function reduce()\n",
        "\n",
        "\n"
      ]
    },
    {
      "cell_type": "code",
      "metadata": {
        "id": "JyNX3KK_547b",
        "colab_type": "code",
        "colab": {
          "base_uri": "https://localhost:8080/",
          "height": 139
        },
        "outputId": "77dac737-83e1-43ca-be72-3a86900b9c32"
      },
      "source": [
        "from functools import reduce\n",
        "\n",
        "\n",
        "def do_operation_required(num1, num2, operation):\n",
        "    try:\n",
        "        if operation == 'add':\n",
        "            return int(num1) + int(num2);\n",
        "        if operation == 'multi':\n",
        "            return int(num1) * int(num2);\n",
        "    except Exception as ex:\n",
        "        print(\"Error in operation please try again\")\n",
        "\n",
        "\n",
        "def my_reduce_custom(func, lst, operation):\n",
        "    # get index 0 element taken\n",
        "    result = lst[0]\n",
        "    # iterate range start end :\n",
        "    for i in lst[1:]:\n",
        "        result = func(result, i, operation)\n",
        "    return result\n",
        "\n",
        "print(\"Session 2: Assignment 1 started here \")\n",
        "print(\"Enter values in number as list comma \")\n",
        "lst_input = input(\"Input number as comma sepeated \").split(\",\")\n",
        "print(\"Enter operation like add,multi only\")\n",
        "operation_input = input(\"Enter operation like add,multi only \")\n",
        "print(\"Result of your reduce function \\n\", my_reduce_custom(do_operation_required, lst_input, operation_input))\n"
      ],
      "execution_count": 1,
      "outputs": [
        {
          "output_type": "stream",
          "text": [
            "Session 2: Assignment 1 started here \n",
            "Enter values in number as list comma \n",
            "Input number as comma sepeated 1,2\n",
            "Enter operation like add,multi only\n",
            "Enter operation like add,multi only add\n",
            "Result of your reduce function \n",
            " 3\n"
          ],
          "name": "stdout"
        }
      ]
    },
    {
      "cell_type": "markdown",
      "metadata": {
        "id": "JYuMdaKV5-da",
        "colab_type": "text"
      },
      "source": [
        "1.2\n",
        "Write a Python program to implement your own myfilter() function which works exactly like\n",
        "Python's built-in function filter()"
      ]
    },
    {
      "cell_type": "code",
      "metadata": {
        "id": "kSYINytp6EKm",
        "colab_type": "code",
        "colab": {}
      },
      "source": [
        "def cutom_my_filter_for_match_even_odd(func, sequence):\n",
        "    res=[]\n",
        "    for variable in sequence :\n",
        "        if func(variable):\n",
        "            res.append(variable)\n",
        "    return res\n",
        "\n",
        "def is_even(item):\n",
        "    if item%2==0 :\n",
        "        return True\n",
        "    else :\n",
        "        return False\n",
        "\n",
        "def is_odd(item):\n",
        "    if item%2==0 :\n",
        "        return False\n",
        "    else :\n",
        "        return True\n",
        "\n",
        "\n",
        "seq=[1,2,3,4,5,6,7,8,9,10]\n",
        "print(\"Even number \\t \\t\" + str(cutom_my_filter_for_match_even_odd(is_even, seq)))\n",
        "\n",
        "print(\"Even number \\t \\t\" +str(cutom_my_filter_for_match_even_odd(is_odd, seq)))"
      ],
      "execution_count": 0,
      "outputs": []
    },
    {
      "cell_type": "markdown",
      "metadata": {
        "id": "MHzAb7lKCZIk",
        "colab_type": "text"
      },
      "source": [
        "2.\n",
        "Implement List comprehensions to produce the following lists.\n",
        "Write List comprehensions to produce the following Lists"
      ]
    },
    {
      "cell_type": "code",
      "metadata": {
        "id": "40pgOjqADAr7",
        "colab_type": "code",
        "colab": {}
      },
      "source": [
        "h_letters = [x for x in 'ACADGILD']\n",
        "print(h_letters),\n",
        "\n",
        "input_list = ['x', 'y', 'z']\n",
        "result = [item * num for item in input_list for num in range(1, 5)]\n",
        "print(\"['x','y','z'] => \" + str(result))\n",
        "input_list = ['x', 'y', 'z']\n",
        "result = [item * num for num in range(1, 5) for item in input_list]\n",
        "print(\"['x','y','z']  result for 2 \" + str(result))\n",
        "\n",
        "input_list = [2, 3, 4, 5]\n",
        "result = [[item + num for item in input_list] for num in range(0, 4)]\n",
        "print(\"[2,3,4,5] =>\" + str(result))\n",
        "input_list = [1, 2, 3]\n",
        "result = [(b, a) for a in input_list for b in input_list]\n",
        "print(\"[1,2,3] =>\" + str(result))\n"
      ],
      "execution_count": 0,
      "outputs": []
    },
    {
      "cell_type": "markdown",
      "metadata": {
        "id": "zMgj0ogHDj7i",
        "colab_type": "text"
      },
      "source": [
        "3.\n",
        "Implement a function longestWord() that takes a list of words and returns the longest one."
      ]
    },
    {
      "cell_type": "code",
      "metadata": {
        "id": "aPAu86i4DkX0",
        "colab_type": "code",
        "colab": {}
      },
      "source": [
        "def long_words(words_list):\n",
        "    word_len = []  \n",
        "    for n in words_list:  \n",
        "        word_len.append((len(n), n))  \n",
        "    word_len.sort()  \n",
        "    return word_len[-1][1]  \n",
        "\n",
        "print(long_words([\"3\", \"21\", \"2020\"]))"
      ],
      "execution_count": 0,
      "outputs": []
    },
    {
      "cell_type": "markdown",
      "metadata": {
        "id": "pPuPAGCqM_LZ",
        "colab_type": "text"
      },
      "source": [
        "**Task 2:**\n",
        "1.1\n",
        "Write a Python Program(with class concepts) to find the area of the triangle using the below\n",
        "formula.\n",
        "area = (s*(s-a)*(s-b)*(s-c)) ** 0.5\n",
        "Function to take the length of the sides of triangle from user should be defined in the parent\n",
        "class and function to calculate the area should be defined in subclass."
      ]
    },
    {
      "cell_type": "code",
      "metadata": {
        "id": "Cbgc5JzENK6j",
        "colab_type": "code",
        "colab": {}
      },
      "source": [
        "class Child_Trangel():\n",
        "    def __init__(self):\n",
        "        pass\n",
        "\n",
        "    def __area__(a, b, c):\n",
        "        s = (a + b + c) / 2\n",
        "        area = (s * (s - a) * (s - b) * (s - c)) ** 0.5\n",
        "        print('The area of the triangle is %0.2f' % area)\n",
        "\n",
        "\n",
        "class Parent(Child_Trangel):\n",
        "    def __init__(self, a, b, c):\n",
        "        self.a = a\n",
        "        self.b = b\n",
        "        self.c = c\n",
        "        Child_Trangel.__init__(self)\n",
        "        Child_Trangel.__area__(self.a, self.b, self.c)\n",
        "\n",
        "\n",
        "a = Child_Trangel()\n",
        "a = 5\n",
        "b = 6\n",
        "c = 7\n",
        "b = Parent(a, b, c)\n"
      ],
      "execution_count": 0,
      "outputs": []
    },
    {
      "cell_type": "markdown",
      "metadata": {
        "id": "nO943zmZVwMN",
        "colab_type": "text"
      },
      "source": [
        "1.2\n",
        "Write a function filter_long_words() that takes a list of words and an integer n and returns the list\n",
        "of words that are longer than n.\n"
      ]
    },
    {
      "cell_type": "code",
      "metadata": {
        "id": "pkLGGrO4V0Hd",
        "colab_type": "code",
        "colab": {}
      },
      "source": [
        "def filter_long_words(n, str1):\n",
        "    word_len = []\n",
        "    txt = str1.split(\" \")\n",
        "    for x in txt:\n",
        "        if len(x) > n:\n",
        "            word_len.append(x)\n",
        "    return word_len\t\n",
        "print(filter_long_words(3, \"The ssas br121own sdsfs 3123123 sdf213 123s f dog1\"))"
      ],
      "execution_count": 0,
      "outputs": []
    },
    {
      "cell_type": "markdown",
      "metadata": {
        "id": "goP7oULPWNCF",
        "colab_type": "text"
      },
      "source": [
        "2.1 \n",
        "\n",
        "Write a Python program using function concept that maps list of words into a list of integers\n",
        "representing the lengths of the corresponding words .\n",
        "Hint: If a list [ ab,cde,erty] is passed on to the python function output should come as [2,3,4]\n",
        "Here 2,3 and 4 are the lengths of the words in the list"
      ]
    },
    {
      "cell_type": "code",
      "metadata": {
        "id": "wguOqicLWwQS",
        "colab_type": "code",
        "colab": {}
      },
      "source": [
        "words_list = [\"This\", \"is\", \"a\", \"beautiful\", \"day\"]\n",
        "\n",
        "def words_length(wordlist):\n",
        " return list(map(lambda x: len(x), wordlist))\n",
        "\n",
        "print (\"word lengths in array => \" + str(words_length(words_list)))"
      ],
      "execution_count": 0,
      "outputs": []
    },
    {
      "cell_type": "markdown",
      "metadata": {
        "id": "i_ERFFx_XGwD",
        "colab_type": "text"
      },
      "source": [
        "2.2\n",
        "Write a Python function which takes a character (i.e. a string of length 1) and returns True if it is\n",
        "a vowel, False otherwise."
      ]
    },
    {
      "cell_type": "code",
      "metadata": {
        "id": "IcU5LbObXOBY",
        "colab_type": "code",
        "colab": {}
      },
      "source": [
        "words_list = [\"This\", \"is\", \"a\", \"beautiful\", \"day\"]\n",
        "\n",
        "\n",
        "def words_length(wordlist):\n",
        "    return list(map(lambda x: len(x), wordlist))\n",
        "\n",
        "\n",
        "print(\"word lengths in array => # FUnction to check char is vowel and return True/False\")\n",
        "\n",
        "\n",
        "def vowel_checker(char):\n",
        "    if (char == 'a' or char == 'e' or char == 'i' or char == 'o' or char == 'u'):\n",
        "        return True\n",
        "    else:\n",
        "        return False\n",
        "\n",
        "\n",
        "char = input(\"PLEASAE Enter character: \");\n",
        "\n",
        "if (char.isalpha() == False):\n",
        "    exit();\n",
        "\n",
        "if (vowel_checker(char)):\n",
        "    print(char, \"IS a vowel YESS\");\n",
        "else:\n",
        "    print(char, \"IS not a vowel NO\");\n"
      ],
      "execution_count": 0,
      "outputs": []
    },
    {
      "cell_type": "markdown",
      "metadata": {
        "id": "eGMG1LkOXxSY",
        "colab_type": "text"
      },
      "source": [
        ""
      ]
    }
  ]
}