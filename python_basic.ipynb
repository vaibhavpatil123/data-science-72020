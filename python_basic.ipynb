{
  "nbformat": 4,
  "nbformat_minor": 0,
  "metadata": {
    "colab": {
      "name": "python basic.ipynb",
      "provenance": [],
      "collapsed_sections": []
    },
    "kernelspec": {
      "name": "python3",
      "display_name": "Python 3"
    }
  },
  "cells": [
    {
      "cell_type": "code",
      "metadata": {
        "id": "Vu21AcIYSriE",
        "colab_type": "code",
        "colab": {}
      },
      "source": [
        ""
      ],
      "execution_count": 0,
      "outputs": []
    },
    {
      "cell_type": "markdown",
      "metadata": {
        "id": "vb28t-M_TGfN",
        "colab_type": "text"
      },
      "source": [
        "Python basics examples\n",
        "\n"
      ]
    },
    {
      "cell_type": "code",
      "metadata": {
        "id": "cdbpVnq7TJeU",
        "colab_type": "code",
        "colab": {
          "base_uri": "https://localhost:8080/",
          "height": 267
        },
        "outputId": "9a53991b-61cb-465c-d749-b3e16e1fe951"
      },
      "source": [
        "print(\"print message hello\")\n",
        "# varaible and types \n",
        "val =10 \n",
        "val1= True \n",
        "a, b, c = 5, 3.2, \"Hello\"\n",
        "\n",
        "print (a)\n",
        "print (b)\n",
        "print (c)\n",
        "# operators \n",
        "if a==5:\n",
        "  print(\"EQ to 5\")\n",
        "\n",
        "## array and list and operations\n",
        "val_arrys=[11,2,2,2]\n",
        "my_list = ['p', 'r', 'o', 'b', 'e']\n",
        "\n",
        "print(my_list[0])\n",
        "print(my_list[0])\n",
        "my_list[1:4] = [3, 5, 7]  \n",
        "\n",
        "\n",
        "\n",
        "# dict \n",
        "dict_example ={ 'key':1212}\n",
        "print(dict_example)\n",
        "\n",
        "# loops \n",
        "for valx in my_list:\n",
        "  print(valx)\n",
        "\n",
        "# functions define \n",
        "\n",
        "def function_name():\n",
        "    print(\"function_name\")\n",
        "\n",
        "print(function_name())"
      ],
      "execution_count": 3,
      "outputs": [
        {
          "output_type": "stream",
          "text": [
            "print message hello\n",
            "5\n",
            "3.2\n",
            "Hello\n",
            "EQ to 5\n",
            "p\n",
            "p\n",
            "{'key': 1212}\n",
            "p\n",
            "3\n",
            "5\n",
            "7\n",
            "e\n",
            "function_name\n",
            "None\n"
          ],
          "name": "stdout"
        }
      ]
    }
  ]
}