{
  "nbformat": 4,
  "nbformat_minor": 0,
  "metadata": {
    "colab": {
      "name": "numpy-asssignment-5may.ipynb",
      "provenance": [],
      "collapsed_sections": []
    },
    "kernelspec": {
      "name": "python3",
      "display_name": "Python 3"
    }
  },
  "cells": [
    {
      "cell_type": "markdown",
      "metadata": {
        "id": "273lQcVpcMDk",
        "colab_type": "text"
      },
      "source": [
        ""
      ]
    },
    {
      "cell_type": "markdown",
      "metadata": {
        "id": "_Yh2iB5ocOuk",
        "colab_type": "text"
      },
      "source": [
        "################################# Question 1 \n",
        "## Iterate over each number in the input vector n times, n being the number of columns in the o/p matrix and output \n",
        "## an intermediate vector. Use diff order formula based on increasing and decreasing condition.\n",
        "## Reshape the intermediate vector using the size of the input vector (rows) and n (columns) to generate the o/p matrix. "
      ]
    },
    {
      "cell_type": "code",
      "metadata": {
        "id": "PcBbcm9kcVGK",
        "colab_type": "code",
        "colab": {
          "base_uri": "https://localhost:8080/",
          "height": 815
        },
        "outputId": "2cc3f4c5-fc27-4785-9bdf-65fd62ee1235"
      },
      "source": [
        "   \n",
        "import numpy as np\n",
        "def gen_vander_matrix(ipvector, n, increasing=False):    \n",
        "    if not increasing:\n",
        "        op_matx = np.array([x**(n-1-i) for x in ipvector for i in range(n)]).reshape(ipvector.size,n)\n",
        "    elif increasing:\n",
        "        op_matx = np.array([x**i for x in ipvector for i in range(n)]).reshape(ipvector.size,n)\n",
        "    \n",
        "    return op_matx\n",
        "\n",
        "print(\"------------OUTPUT-------------\\n\")\n",
        "\n",
        "inputvector = np.array([1,2,3,4,5])\n",
        "no_col_opmat = 3\n",
        "op_matx_dec_order = gen_vander_matrix(inputvector,no_col_opmat,False)\n",
        "op_matx_inc_order = gen_vander_matrix(inputvector,no_col_opmat,True)\n",
        "\n",
        "print(\"The input array is:\",inputvector,\"\\n\")\n",
        "print(\"Number of columns in output matrix should be:\",no_col_opmat,\"\\n\")\n",
        "print(\"Vander matrix of the input array in decreasing order of powers:\\n\\n\",op_matx_dec_order,\"\\n\")\n",
        "print(\"Vander matrix of the input array in increasing order of powers:\\n\\n\",op_matx_inc_order,\"\\n\")\n",
        "\n",
        "inputvector = np.array([1,2,4,6,8,10])\n",
        "no_col_opmat = 5\n",
        "op_matx_dec_order = gen_vander_matrix(inputvector,no_col_opmat,False)\n",
        "op_matx_inc_order = gen_vander_matrix(inputvector,no_col_opmat,True)\n",
        "\n",
        "print(\"---------------------------------------------------------------\\n\")\n",
        "print(\"The input array is:\",inputvector,\"\\n\")\n",
        "print(\"Number of columns in output matrix should be:\",no_col_opmat,\"\\n\")\n",
        "print(\"Vander matrix of the input array in decreasing order of powers:\\n\\n\",op_matx_dec_order,\"\\n\")\n",
        "print(\"Vander matrix of the input array in increasing order of powers:\\n\\n\",op_matx_inc_order,\"\\n\")"
      ],
      "execution_count": 4,
      "outputs": [
        {
          "output_type": "stream",
          "text": [
            "------------OUTPUT-------------\n",
            "\n",
            "The input array is: [1 2 3 4 5] \n",
            "\n",
            "Number of columns in output matrix should be: 3 \n",
            "\n",
            "Vander matrix of the input array in decreasing order of powers:\n",
            "\n",
            " [[ 1  1  1]\n",
            " [ 4  2  1]\n",
            " [ 9  3  1]\n",
            " [16  4  1]\n",
            " [25  5  1]] \n",
            "\n",
            "Vander matrix of the input array in increasing order of powers:\n",
            "\n",
            " [[ 1  1  1]\n",
            " [ 1  2  4]\n",
            " [ 1  3  9]\n",
            " [ 1  4 16]\n",
            " [ 1  5 25]] \n",
            "\n",
            "---------------------------------------------------------------\n",
            "\n",
            "The input array is: [ 1  2  4  6  8 10] \n",
            "\n",
            "Number of columns in output matrix should be: 5 \n",
            "\n",
            "Vander matrix of the input array in decreasing order of powers:\n",
            "\n",
            " [[    1     1     1     1     1]\n",
            " [   16     8     4     2     1]\n",
            " [  256    64    16     4     1]\n",
            " [ 1296   216    36     6     1]\n",
            " [ 4096   512    64     8     1]\n",
            " [10000  1000   100    10     1]] \n",
            "\n",
            "Vander matrix of the input array in increasing order of powers:\n",
            "\n",
            " [[    1     1     1     1     1]\n",
            " [    1     2     4     8    16]\n",
            " [    1     4    16    64   256]\n",
            " [    1     6    36   216  1296]\n",
            " [    1     8    64   512  4096]\n",
            " [    1    10   100  1000 10000]] \n",
            "\n"
          ],
          "name": "stdout"
        }
      ]
    },
    {
      "cell_type": "markdown",
      "metadata": {
        "id": "_b0hlIfech7t",
        "colab_type": "text"
      },
      "source": [
        "################################# Question 2\n",
        "#Write a function to find moving average in an array over a window:\n",
        "#Test it over [3, 5, 7, 2, 8, 10, 11, 65, 72, 81, 99, 100, 150] and window of 3.\n"
      ]
    },
    {
      "cell_type": "code",
      "metadata": {
        "id": "rwqYxc69cuB2",
        "colab_type": "code",
        "colab": {
          "base_uri": "https://localhost:8080/",
          "height": 69
        },
        "outputId": "f3740732-b5c8-49ce-e363-ea3cf666e518"
      },
      "source": [
        "import numpy as np\n",
        "\n",
        "def moving_average(a, window=3) :\n",
        "    ret = np.cumsum(a, dtype=float)\n",
        "    ret[window:] = ret[window:] - ret[:-window]\n",
        "    return ret[window - 1:] / window\n",
        "moving_average(np.array([3, 5, 7, 2, 8, 10, 11, 65, 72, 81, 99, 100, 150]))"
      ],
      "execution_count": 5,
      "outputs": [
        {
          "output_type": "execute_result",
          "data": {
            "text/plain": [
              "array([  5.        ,   4.66666667,   5.66666667,   6.66666667,\n",
              "         9.66666667,  28.66666667,  49.33333333,  72.66666667,\n",
              "        84.        ,  93.33333333, 116.33333333])"
            ]
          },
          "metadata": {
            "tags": []
          },
          "execution_count": 5
        }
      ]
    }
  ]
}